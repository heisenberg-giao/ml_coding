{
 "cells": [
  {
   "cell_type": "markdown",
   "id": "5b673564",
   "metadata": {},
   "source": [
    "# Meta\n",
    "\n",
    "一题是Merge 3 sorted arrays but remove duplicates，follow-up是merge k sorted arrays，类似于lc 23 merge k sorted linked-lists。\n",
    "\n",
    "另一题是Shortest path from start to end of a binary maze，类似于lc 1091，但是要求return path"
   ]
  },
  {
   "cell_type": "markdown",
   "id": "06190e3e",
   "metadata": {},
   "source": []
  },
  {
   "cell_type": "code",
   "execution_count": null,
   "id": "c73ea824",
   "metadata": {},
   "outputs": [],
   "source": []
  }
 ],
 "metadata": {
  "language_info": {
   "name": "python"
  }
 },
 "nbformat": 4,
 "nbformat_minor": 5
}
