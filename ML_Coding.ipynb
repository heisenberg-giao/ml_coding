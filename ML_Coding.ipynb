{
 "cells": [
  {
   "cell_type": "markdown",
   "id": "3417d5e3",
   "metadata": {},
   "source": [
    "# https://github.com/alirezadir/Machine-Learning-Interviews/blob/main/src/MLC/ml-coding.md\n"
   ]
  },
  {
   "cell_type": "markdown",
   "id": "d4822506",
   "metadata": {},
   "source": [
    "# ML Coding"
   ]
  },
  {
   "cell_type": "markdown",
   "id": "b687b691",
   "metadata": {},
   "source": [
    "根据我最近的面试经验，用torch手撕cnn里各种layer高概率会考。如果和llm相关，手撕attention head肯定要考。手撕gradient一般不会，但还是要准备手撕简单的linear regression和logistic regression的gradient descent。不少面经里看到了这类问题。"
   ]
  },
  {
   "cell_type": "markdown",
   "id": "8e68a41f",
   "metadata": {},
   "source": [
    "## Linear Regression"
   ]
  },
  {
   "cell_type": "code",
   "execution_count": 18,
   "id": "c6db77b2",
   "metadata": {},
   "outputs": [],
   "source": [
    "import numpy as np\n",
    "\n",
    "class LinearRegression:\n",
    "    \"\"\"\n",
    "    y = XW\n",
    "    W = (XtX)^(-1)Xty\n",
    "    \"\"\"\n",
    "    def __init__(self):\n",
    "        self.W = None\n",
    "    \n",
    "    def fit(self, X, y):\n",
    "        \"\"\"\n",
    "        X: nxd\n",
    "        \"\"\"\n",
    "        # add bias term\n",
    "        n = X.shape[0]\n",
    "        X = np.hstack([np.ones((n, 1)), X])\n",
    "        self.W = np.linalg.inv(X.T @ X) @ X.T @ y \n",
    "    \n",
    "    def predict(self, X):\n",
    "        n = X.shape[0]\n",
    "        X = np.hstack([np.ones((n, 1)), X])\n",
    "        return X@self.W\n",
    "\n",
    "\n",
    "\n",
    "\n",
    "# for large datasets, can use gradient descent and also add regularization term\n",
    "class LinearRegressionGD:\n",
    "    \"\"\" \n",
    "    1. Add input validation for the dimensions\n",
    "    2. Use numpy broadcasting\n",
    "    3. Add regularization such as L2 norm\n",
    "    4. Use gradient descent since calculating inverse of matrix can be very computationally expensive. \n",
    "    \"\"\"\n",
    "    def __init__(self, regul=0):\n",
    "        self.W = None\n",
    "        self.regul = regul \n",
    "    \n",
    "    def fit(self, X, y, num_iter = 1000, lr=0.01):\n",
    "        ''' \n",
    "        X: nxd\n",
    "        y: nx1\n",
    "        W: dx1\n",
    "        '''\n",
    "\n",
    "        # input validation\n",
    "        if len(X) != len(y) or len(X)==0:\n",
    "            raise ValueError(\"X and y must have the same length and cannot be empty\")\n",
    "\n",
    "        # add bias term\n",
    "        X = np.hstack([np.ones((len(X), 1)), X])\n",
    "\n",
    "        # init the initial W weights\n",
    "        self.W = np.zeros(X.shape[1])\n",
    "\n",
    "        # Use gradient descent to minize the cost\n",
    "        for i in range(num_iter):\n",
    "            # calculate predicted values\n",
    "            y_pred = np.matmul(X, self.W)\n",
    "\n",
    "            # calculate cost function;\n",
    "            # include both MSE loss and regularization loss\n",
    "            # this is mainly used to track the loss reduction pattern\n",
    "            cost = np.sum((y-y_pred)**2) + self.regul * np.sum(self.W **2)\n",
    "\n",
    "            # calculate gradident\n",
    "            gradients = 2 * np.matmul(X.T, (y_pred - y)) + 2 * self.regul * self.W \n",
    "\n",
    "            # update W\n",
    "            self.W = self.W - lr*gradients\n",
    "\n",
    "            if (i%1000) == 0:\n",
    "                print(cost)\n",
    "    \n",
    "    def predict(self, X):\n",
    "        X = np.hstack([np.ones((len(X), 1)), X])\n",
    "\n",
    "        y_pred = np.matmul(X, self.W)\n",
    "\n",
    "        return y_pred\n"
   ]
  },
  {
   "cell_type": "code",
   "execution_count": 19,
   "id": "dc17ca31",
   "metadata": {},
   "outputs": [
    {
     "name": "stdout",
     "output_type": "stream",
     "text": [
      "[3. 1. 2.]\n",
      "[35. 44.]\n"
     ]
    }
   ],
   "source": [
    "# Create example input data\n",
    "X = np.array([[2, 2], [4, 5], [7, 8]])\n",
    "y = np.array([9, 17, 26])\n",
    "\n",
    "# Fit linear regression model\n",
    "lr = LinearRegression()\n",
    "lr.fit(X, y)\n",
    "print(lr.W) # [3. 1. 2.]\n",
    "\n",
    "# Make predictions on new data\n",
    "X_new = np.array([[10, 11], [13, 14]])\n",
    "y_pred = lr.predict(X_new)\n",
    "print(y_pred)  # Output: [43. 55.]"
   ]
  },
  {
   "cell_type": "code",
   "execution_count": 20,
   "id": "0f841f2d",
   "metadata": {},
   "outputs": [
    {
     "name": "stdout",
     "output_type": "stream",
     "text": [
      "86.0\n",
      "2.8791287270130335\n",
      "2.8791287270130344\n",
      "2.8791287270130344\n",
      "2.8791287270130344\n",
      "2.8791287270130344\n",
      "2.8791287270130344\n",
      "2.8791287270130344\n",
      "2.8791287270130344\n",
      "2.8791287270130344\n",
      "[1.99964292 0.65345474]\n",
      "[2.65309766 3.3065524  3.96000714 4.61346188 5.26691662]\n"
     ]
    }
   ],
   "source": [
    "X = np.array([[1, 2, 3, 4, 5]]).T\n",
    "y = np.array([2, 4, 5, 4, 5])\n",
    "lr = LinearRegressionGD(regul=0.1)\n",
    "lr.fit(X, y, lr=0.01, num_iter=10000)\n",
    "print(lr.W)  # Output: [ 1.99964292  0.65345474 ]\n",
    "y_pred = lr.predict(X)\n",
    "print(y_pred)  # # Output: [2.65309766, 3.3065524, 3.96000714, 4.61346188, 5.26691662]"
   ]
  },
  {
   "cell_type": "code",
   "execution_count": 21,
   "id": "d3dcce7a",
   "metadata": {},
   "outputs": [
    {
     "data": {
      "image/png": "[encoded data removed]",
      "text/plain": [
       "<Figure size 640x480 with 1 Axes>"
      ]
     },
     "metadata": {},
     "output_type": "display_data"
    }
   ],
   "source": [
    "import matplotlib.pyplot as plt \n",
    "\n",
    "# Plot the data and the linear regression line\n",
    "plt.scatter(X, y, color='blue')\n",
    "plt.plot(X, y_pred, color='red')\n",
    "plt.xlabel('X')\n",
    "plt.ylabel('y')\n",
    "plt.title('Linear Regression')\n",
    "plt.show()"
   ]
  },
  {
   "cell_type": "markdown",
   "id": "0b7e5bc5",
   "metadata": {},
   "source": [
    "## Logistic Regression"
   ]
  },
  {
   "cell_type": "code",
   "execution_count": 19,
   "id": "219af3f9",
   "metadata": {},
   "outputs": [],
   "source": [
    "import numpy as np\n",
    "\n",
    "class LogisticRegression:\n",
    "\n",
    "    def __init__(self, lr=0.01, n_iters=1000, tol=1e-4):\n",
    "        self.lr = lr\n",
    "        self.n_iters = n_iters\n",
    "        self.tol = tol\n",
    "        self.weights = None\n",
    "        self.bias = None\n",
    "    \n",
    "    def _sigmoid(self, z):\n",
    "        return 1/(1 + np.exp(-z))\n",
    "    \n",
    "    def _loss(self, y, y_pred):\n",
    "        return -np.mean(y*np.log(y_pred) + (1-y)*np.log(1-y_pred))\n",
    "\n",
    "    def fit(self, X, y):\n",
    "        # number of samples and features\n",
    "        n_samples, n_features = X.shape\n",
    "\n",
    "        # Init weights and bias\n",
    "        self.weights = np.zeros(n_features)\n",
    "        self.bias = 0\n",
    "        prev_loss = float('inf')\n",
    "\n",
    "        # gradient descent\n",
    "        for _ in range(self.n_iters):\n",
    "            z = np.matmul(X, self.weights) + self.bias\n",
    "            y_pred = self._sigmoid(z)\n",
    "\n",
    "            # calcualte loss\n",
    "            loss = self._loss(y, y_pred)\n",
    "            if abs(prev_loss - loss) < self.tol:\n",
    "                break\n",
    "            \n",
    "            prev_loss = loss\n",
    "\n",
    "            # compute gradients\n",
    "            dw = (1/n_samples) * np.matmul(X.T, (y_pred-y))\n",
    "            db = (1/n_samples) * np.sum(y_pred-y)\n",
    "\n",
    "            # update parameters\n",
    "            self.weights -= self.lr * dw \n",
    "            self.bias -= self.lr * db \n",
    "\n",
    "    def predict_proba(self, X):\n",
    "        z = np.matmul(X, self.weights) + self.bias\n",
    "        return self._sigmoid(z)\n",
    "\n",
    "    def predict(self, X, threshold=0.5):\n",
    "        prob = self.predict_proba(X)\n",
    "        return (prob >= threshold).astype(int)\n"
   ]
  },
  {
   "cell_type": "code",
   "execution_count": 20,
   "id": "d3367958",
   "metadata": {},
   "outputs": [
    {
     "name": "stdout",
     "output_type": "stream",
     "text": [
      "Accuracy: 0.83\n"
     ]
    }
   ],
   "source": [
    "from sklearn.datasets import make_classification\n",
    "from sklearn.model_selection import train_test_split\n",
    "from sklearn.metrics import accuracy_score\n",
    "\n",
    "# Create synthetic binary classification data\n",
    "X, y = make_classification(n_samples=1000, n_features=10, n_classes=2, random_state=42)\n",
    "\n",
    "# Split\n",
    "X_train, X_test, y_train, y_test = train_test_split(X, y, test_size=0.2, random_state=42)\n",
    "\n",
    "# Train\n",
    "model = LogisticRegression(lr=0.1, n_iters=1000)\n",
    "model.fit(X_train, y_train)\n",
    "\n",
    "# Predict\n",
    "predictions = model.predict(X_test)\n",
    "print(\"Accuracy:\", accuracy_score(y_test, predictions))\n"
   ]
  },
  {
   "cell_type": "markdown",
   "id": "e5111b0b",
   "metadata": {},
   "source": [
    "## kNN\n"
   ]
  },
  {
   "cell_type": "code",
   "execution_count": null,
   "id": "592e032f",
   "metadata": {},
   "outputs": [],
   "source": [
    "from collections import Counter\n",
    "import numpy as np\n",
    "\n",
    "class kNN:\n",
    "    def __init__(self, k=3, distance='euclidean'):\n",
    "        self.k = k\n",
    "        self.distance = distance\n",
    "    \n",
    "    def fit(self, X_train, y_train):\n",
    "        self.X_train = X_train\n",
    "        self.y_train = y_train\n",
    "    \n",
    "    def predict(self, X_test):\n",
    "        y_pred = []\n",
    "        for x in X_test:\n",
    "            # compute distances between the test point and all training points\n",
    "            if self.distance == 'euclidean':\n",
    "                distances = np.linalg.norm(self.X_train - x, axis = 1)\n",
    "            \n",
    "            # select k nearst neighbors\n",
    "            # 按照距离进行排序，拿到样本的前k个索引，距离最近的k个样本的索引\n",
    "            nearest_indices = np.argsort(distances)[:self.k]\n",
    "            # 通过索引从y_train中取出这k个邻居的标签\n",
    "            nearest_labels = self.y_train[nearest_indices]\n",
    "\n",
    "            # assign the class label that apprear most frequently among the k nearest neighbors\n",
    "            # 创建一个字典，统计每个标签出现的次数， 返回出现次数最多的那个标签及其频率，[0][0]取出标签名，作为预测结果。\n",
    "            label = Counter(nearest_labels).most_common(1)[0][0]\n",
    "            y_pred.append(label)\n",
    "\n",
    "        return np.array(y_pred)\n"
   ]
  },
  {
   "cell_type": "code",
   "execution_count": 3,
   "id": "548efaa3",
   "metadata": {},
   "outputs": [
    {
     "name": "stdout",
     "output_type": "stream",
     "text": [
      "Accuracy: 1.0\n"
     ]
    }
   ],
   "source": [
    "from sklearn.datasets import load_iris\n",
    "from sklearn.model_selection import train_test_split\n",
    "from sklearn.metrics import accuracy_score\n",
    "\n",
    "# Load the iris dataset\n",
    "iris = load_iris()\n",
    "\n",
    "# Split the data into training and test sets\n",
    "X_train, X_test, y_train, y_test = train_test_split(iris.data, iris.target, test_size=0.2, random_state=42)\n",
    "\n",
    "# Create a KNN classifier with k=5 and euclidean distance\n",
    "knn = kNN(k=5, distance='euclidean')\n",
    "\n",
    "# Train the classifier on the training data\n",
    "knn.fit(X_train, y_train)\n",
    "\n",
    "# Make predictions on the test data\n",
    "y_pred = knn.predict(X_test)\n",
    "\n",
    "# Compute the accuracy of the classifier\n",
    "accuracy = accuracy_score(y_test, y_pred)\n",
    "print(f\"Accuracy: {accuracy}\")"
   ]
  },
  {
   "cell_type": "markdown",
   "id": "7f421725",
   "metadata": {},
   "source": [
    "# k-Means"
   ]
  },
  {
   "cell_type": "code",
   "execution_count": 1,
   "id": "b837f74e",
   "metadata": {},
   "outputs": [],
   "source": [
    "\"\"\" \n",
    "1. Initialization\n",
    "- k number of clusters\n",
    "- data: input of datasets\n",
    "- randomly assign k centroids\n",
    "\n",
    "2. Repeat\n",
    "- Assign each data point to the nearest centroid (based on Euclidean distance)\n",
    "- Calculate the mean of each cluster to update its centroid\n",
    "- Check if the centroids have converged or max iteration reached(i.e., they no longer change)\n",
    "\n",
    "3. Until \n",
    "- Centroids have converged\n",
    "- Max number of iterations has been reached\n",
    "\n",
    "4. Output\n",
    "- The final K clusters and their corresponding centroids\n",
    "\n",
    "\"\"\"\n",
    "import numpy as np\n",
    "\n",
    "class KMeans:\n",
    "    def __init__(self, k, max_iters = 1000, tol=1e-4):\n",
    "        self.k = k\n",
    "        self.max_iters = max_iters\n",
    "        self.tol = tol\n",
    "\n",
    "    def fit(self, X):\n",
    "        # Initiate centroids randomly\n",
    "        n_samples = X.shape[0]\n",
    "        # randomly select k indices from n indices without replacement\n",
    "        self.centroids = X[np.random.choice(n_samples, self.k, replace=False)]\n",
    "\n",
    "        # Iterate until convergence or maximum number of iterastions is reached\n",
    "        for i in range(self.max_iters):\n",
    "            # assign each data point to the closest centroid\n",
    "            # X[:, np.newaxis] (n_samples, 1, n_features); newaxis是给X加一个新的axis，为了可以broadcasting进行相减\n",
    "            # 相当于 X[:, np.newaxis, :], 新的维度加在中间\n",
    "            # self.centroids (k, n_features)， 这个被广播成\n",
    "            distances = np.linalg.norm(X[:, np.newaxis, :] - self.centroids, axis = 2) \n",
    "            cluster_assignments = np.argmin(distances, axis=1)\n",
    "\n",
    "            # Update the centroids based on the new cluster assignments\n",
    "            # 对于每一个j，从X中选出所有被分到这个cluster j的点，然后求他们的平均值（新的质心位置）\n",
    "            new_centroids = np.array([np.mean(X[np.where(cluster_assignments == j)], axis = 0) \n",
    "                                      for j in range(self.k)])\n",
    "            \n",
    "            # check for convergence\n",
    "            if np.linalg.norm(new_centroids-self.centroids) < self.tol:\n",
    "                break\n",
    "            \n",
    "            self.centroids = new_centroids\n",
    "\n",
    "    def predict(self, X):\n",
    "        # Assign each data point to the closest centroid\n",
    "        distances = np.linalg.norm(X[:, np.newaxis, :] - self.centroids, axis=2)\n",
    "        cluster_assignments = np.argmin(distances, axis=1)\n",
    "\n",
    "        return cluster_assignments\n"
   ]
  },
  {
   "cell_type": "code",
   "execution_count": 22,
   "id": "e19402e0",
   "metadata": {},
   "outputs": [
    {
     "name": "stdout",
     "output_type": "stream",
     "text": [
      "[0 0 0 0 0 1 1 1 1 1]\n",
      "[[ 5.32249308  5.23600716]\n",
      " [-4.52531636 -5.1229617 ]]\n"
     ]
    }
   ],
   "source": [
    "x1 = np.random.randn(5,2) + 5\n",
    "x2 = np.random.randn(5,2) - 5\n",
    "X = np.concatenate([x1,x2], axis=0)\n",
    "\n",
    "# Initialize the KMeans object with k=3\n",
    "kmeans = KMeans(k=2)\n",
    "\n",
    "# Fit the k-means model to the dataset\n",
    "kmeans.fit(X)\n",
    "\n",
    "# Get the cluster assignments for the input dataset\n",
    "cluster_assignments = kmeans.predict(X)\n",
    "\n",
    "# Print the cluster assignments\n",
    "print(cluster_assignments)\n",
    "\n",
    "# Print the learned centroids\n",
    "print(kmeans.centroids)"
   ]
  },
  {
   "cell_type": "code",
   "execution_count": 23,
   "id": "9a2cc510",
   "metadata": {},
   "outputs": [
    {
     "data": {
      "image/png": "[encoded data removed]",
      "text/plain": [
       "<Figure size 640x480 with 1 Axes>"
      ]
     },
     "metadata": {},
     "output_type": "display_data"
    }
   ],
   "source": [
    "from matplotlib import pyplot as plt\n",
    "# Plot the data points with different colors based on their cluster assignments\n",
    "colors = ['r', 'b']\n",
    "for i in range(kmeans.k):\n",
    "    plt.scatter(X[np.where(np.array(cluster_assignments) == i)][:,0], \n",
    "                X[np.where(np.array(cluster_assignments) == i)][:,1], \n",
    "                color=colors[i])\n",
    "\n",
    "# Plot the centroids as black circles\n",
    "plt.scatter(kmeans.centroids[:,0], kmeans.centroids[:,1], color='black', marker='o')\n",
    "\n",
    "# Show the plot\n",
    "plt.show()"
   ]
  },
  {
   "cell_type": "markdown",
   "id": "1d12c350",
   "metadata": {},
   "source": [
    "# DL"
   ]
  },
  {
   "cell_type": "markdown",
   "id": "769007d7",
   "metadata": {},
   "source": [
    "## MLP, FNN, Softmax"
   ]
  },
  {
   "cell_type": "code",
   "execution_count": null,
   "id": "a8037ccd",
   "metadata": {},
   "outputs": [],
   "source": [
    "# implement the backpropagation of a neural network for doing binary classfication\n",
    "def "
   ]
  },
  {
   "cell_type": "markdown",
   "id": "fa20f712",
   "metadata": {},
   "source": [
    "## TF-IDF"
   ]
  },
  {
   "cell_type": "code",
   "execution_count": null,
   "id": "4c6f6480",
   "metadata": {},
   "outputs": [
    {
     "name": "stdout",
     "output_type": "stream",
     "text": [
      "\n",
      "Document 1 TF-IDF:\n",
      "  cat: 0.0676\n",
      "  mat: 0.0676\n",
      "  the: 0.0000\n",
      "  sat: 0.0000\n",
      "  on: 0.0000\n",
      "\n",
      "Document 2 TF-IDF:\n",
      "  dog: 0.0676\n",
      "  log: 0.0676\n",
      "  the: 0.0000\n",
      "  sat: 0.0000\n",
      "  on: 0.0000\n",
      "\n",
      "Document 3 TF-IDF:\n",
      "  cats: 0.0676\n",
      "  and: 0.0676\n",
      "  dogs: 0.0676\n",
      "  are: 0.0676\n",
      "  great: 0.0676\n",
      "  pets: 0.0676\n"
     ]
    }
   ],
   "source": [
    "import math\n",
    "from collections import Counter, defaultdict\n",
    "\n",
    "def compute_tf(doc):\n",
    "    \"\"\" \n",
    "    Term frequency\n",
    "    TF(doc) -> 每个词t在文档doc中出现的频率。freq[t]//total_counts_of_words\n",
    "    \"\"\"\n",
    "    words = doc.split()\n",
    "    word_count = Counter(words)\n",
    "    total = len(words)\n",
    "    return {word: count / total for word, count in word_count.items()}\n",
    "\n",
    "def compute_idf(docs):\n",
    "    \"\"\" \n",
    "    Inverse Document Frequency\n",
    "    用来很亮一个词是否是稀有词，即在多少个文档中出现过\n",
    "    IDF(word) = log(N/(1+num_docs(word)))\n",
    "    N: 总文档的数目\n",
    "    num_docs(word)：包含word的文档数目；\n",
    "    加1是为了smoothing，prevent from divided by 0\n",
    "\n",
    "    所以越常见的词，IDF越低（不重要）；少见的词，IDF越高（更重要）\n",
    "    \n",
    "    \"\"\"\n",
    "    N = len(docs)\n",
    "    doc_freq = defaultdict(int)\n",
    "    for doc in docs:\n",
    "        unique_words = set(doc.split())\n",
    "        for word in unique_words:\n",
    "            doc_freq[word] += 1\n",
    "    idf = {word: math.log(N/(1+freq)) for word, freq in doc_freq.items()}\n",
    "    return idf\n",
    "\n",
    "def compute_tfidf(docs):\n",
    "    # final tf-idf is\n",
    "    # TF(word, docs)*IDF(docs)\n",
    "    idf = compute_idf(docs)\n",
    "    tfidf_list = []\n",
    "    for doc in docs:\n",
    "        tf = compute_tf(doc)\n",
    "        tfidf = {word: tf[word] * idf[word] for word in tf}\n",
    "        tfidf_list.append(tfidf)\n",
    "    return tfidf_list\n",
    "\n",
    "# 测试\n",
    "docs = [\n",
    "    \"the cat sat on the mat\",\n",
    "    \"the dog sat on the log\",\n",
    "    \"cats and dogs are great pets\"\n",
    "]\n",
    "\n",
    "tfidf_scores = compute_tfidf(docs)\n",
    "\n",
    "# 打印结果\n",
    "for i, doc_scores in enumerate(tfidf_scores):\n",
    "    print(f\"\\nDocument {i+1} TF-IDF:\")\n",
    "    for word, score in sorted(doc_scores.items(), key=lambda x: -x[1]):\n",
    "        print(f\"  {word}: {score:.4f}\")"
   ]
  },
  {
   "cell_type": "markdown",
   "id": "35bb55e1",
   "metadata": {},
   "source": [
    "## Attention"
   ]
  },
  {
   "cell_type": "code",
   "execution_count": 5,
   "id": "a4fb5715",
   "metadata": {},
   "outputs": [],
   "source": [
    "import torch\n",
    "from torch import nn\n",
    "import torch.nn.functional as F \n",
    "import math\n",
    "\n",
    "# only for Encoder part; \n",
    "# decoder part need the causal masking for the output embedding\n",
    "\n",
    "class MultiHeadAttention(nn.Module):\n",
    "    def __init__(self, embed_dim, num_heads):\n",
    "        # 我的类来自nn Module，需要调用父类的构造函数，保证初始化逻辑被执行\n",
    "        super().__init__()\n",
    "        self.embed_dim = embed_dim # d\n",
    "        self.num_heads = num_heads # h\n",
    "        self.head_dim = embed_dim//num_heads # d_k = d//h\n",
    "\n",
    "        self.q_proj = nn.Linear(embed_dim, embed_dim)\n",
    "        self.k_proj = nn.Linear(embed_dim, embed_dim)\n",
    "        self.v_proj = nn.Linear(embed_dim, embed_dim)\n",
    "        self.out_proj = nn.Linear(embed_dim, embed_dim)\n",
    "    \n",
    "        self.ln1 = nn.LayerNorm(embed_dim)\n",
    "        self.ln2 = nn.LayerNorm(embed_dim)\n",
    "\n",
    "        self.ffn = nn.Sequential(\n",
    "            nn.Linear(embed_dim, 4*embed_dim),\n",
    "            nn.ReLU(),\n",
    "            nn.Linear(4 * embed_dim, embed_dim)\n",
    "        )\n",
    "\n",
    "    def forward(self, x, mask = None):\n",
    "        # x: [batch, seq_len, embed_dim]\n",
    "        B, T, C = X.shape\n",
    "\n",
    "        # 1. LayNorm before attention\n",
    "        # 虽然原始论文中用的是post norm，但是post norm会导致训练困难，容易梯度消失或者爆炸\n",
    "        # pre norm稳定性更好，支持更深的模型，现在的bert gpt还有t5都默认使用prenorm\n",
    "        x_norm = self.ln1(x)\n",
    "\n",
    "        # 2. Linear projetions through three Linear layers\n",
    "        Q = self.q_proj(x_norm) # [B, T, C]\n",
    "        K = self.k_proj(x_norm)\n",
    "        V = self.v_proj(x_norm)\n",
    "\n",
    "        # 3. split heads\n",
    "        # view是pytorch的tensor的reshape，这边是将C 拆解成num_heads * head_dim\n",
    "        Q = Q.view(B, T, self.num_heads, self.head_dim).transpose(1, 2) # [B, num_heads, T, head_dim], 把头的dimension当到前面 方便每个head可以独立做注意力计算，最后再合并\n",
    "        K = K.view(B, T, self.num_heads, self.head_dim).transpose(1, 2) # [B, num_heads, T, head_dim]\n",
    "        V = V.view(B, T, self.num_heads, self.head_dim).transpose(1, 2) # [B, num_heads, T, head_dim]\n",
    "\n",
    "        # 4. scaled dot product attention\n",
    "        scores = nn.matmul(Q, K.tranpose(2, 3)) / math.sqrt(self.head_dim) # [B, nh, T, T]\n",
    "\n",
    "        # masking here can be used for both padding mask and causal mask in decoder\n",
    "        # padding mask: mask the padding token in the scores matrix;\n",
    "        # causal mask: prevent decoder to see future information during decoding.\n",
    "        if mask:\n",
    "            scores = scores.masked_fill(mask==0, float('-inf'))\n",
    "        \n",
    "        attn = F.softmax(scores, dim=-1) # [B, nh, T, T]， dim=-1表示在最后一个dimension上面做softmax，就是在seq len维度上对每个token对所有token的注意力分数做归一化概率分布。\n",
    "        out = nn.matmul(attn, V) # [B, nh, T, hd]\n",
    "\n",
    "\n",
    "        # 5. merge heads\n",
    "        # contiguous 是pytorch中让tensor在memory中变成连续存储，方便后面的view操作可以安全执行。因为view只能作用于内存连续的tensor\n",
    "        # 最后将n_head*head_dim -> embed_dim = C\n",
    "        out = out.transpose(1, 2).contiguous().view(B, T, C) # [B, T, C]\n",
    "        out = self.out_proj(out)\n",
    "\n",
    "        # 6. Residual connection + second LayerNorm + Feedfoward\n",
    "        x = x + out\n",
    "        x = x + self.ffn(self.ln2(x))\n",
    "\n",
    "        return x\n",
    "    \n",
    "\n",
    "\n",
    "class TransformerEncoder(nn.Module):\n",
    "    def __init__(self, vocab_size, embed_dim, num_heads, max_len=512):\n",
    "        super().__init__()\n",
    "        self.token_embed = nn.Embedding(vocab_size, embed_dim)\n",
    "        # 创建了一个科学系的位置编码参数，nn.Parameter可以保证这个tensor在训练时候会被优化\n",
    "        self.pos_embed = nn.Parameter(torch.zeros(1, max_len, embed_dim))\n",
    "        self.attn_block = MultiHeadAttention(embed_dim, num_heads)\n",
    "    \n",
    "    def forward(self, x):\n",
    "        B, T = x.shape # [B, T]\n",
    "        tok = self.token_embed(x) # [B, T, C]\n",
    "        # 从位置编码参数重取出当前batch使用的前T个位置，就可以和tok相加，利用broadcasting加到所有的batch上面。\n",
    "        pos = self.pos_embed[:, :T, :] # [1, T, C]\n",
    "        x = pos + tok\n",
    "        x = self.attn_block(x)\n",
    "        return x\n"
   ]
  },
  {
   "cell_type": "markdown",
   "id": "88fc0f58",
   "metadata": {},
   "source": [
    "# Others"
   ]
  },
  {
   "cell_type": "markdown",
   "id": "40d881fb",
   "metadata": {},
   "source": [
    "## Decision Trees"
   ]
  },
  {
   "cell_type": "markdown",
   "id": "994d295c",
   "metadata": {},
   "source": [
    "## Linear SVM"
   ]
  },
  {
   "cell_type": "markdown",
   "id": "ece9f3e1",
   "metadata": {},
   "source": [
    "## Stratified sampling"
   ]
  },
  {
   "cell_type": "markdown",
   "id": "e0b35601",
   "metadata": {},
   "source": [
    "## k-fold cross validation split"
   ]
  },
  {
   "cell_type": "code",
   "execution_count": 2,
   "id": "8460b554",
   "metadata": {},
   "outputs": [
    {
     "name": "stdout",
     "output_type": "stream",
     "text": [
      "[['dog', 'dog', 'dog', 'cat'], ['dog', 'dog', 'cat']]\n"
     ]
    }
   ],
   "source": [
    "# Design and implement a data splitting function for stratified k-fold cross-validation. \n",
    "# Given a list of labels and a number of folds, assign each label to a fold. \n",
    "# Each fold should (as much as possible) be equal in length and have a label distribution that matches the original list. \n",
    "# The function can be deterministic to start, but the ultimate goal is for it to be random.\n",
    "\n",
    "labels = [\"dog\", \"dog\", \"cat\", \"dog\", \"dog\", \"cat\"]\n",
    "num_folds = 2\n",
    "# X = [x1,x2,...] -> train + val, \n",
    "# y = [y1,y2,...]\n",
    "\n",
    "# GPT做法\n",
    "from collections import defaultdict\n",
    "import random\n",
    "\n",
    "def stratified_kfold_indices(labels, k=2, seed=None):\n",
    "    if seed is not None:\n",
    "        random.seed(seed)\n",
    "\n",
    "    label_to_indices = defaultdict(list)\n",
    "    for idx, label in enumerate(labels):\n",
    "        label_to_indices[label].append(idx)\n",
    "\n",
    "    folds = [[] for _ in range(k)]\n",
    "\n",
    "    for label, indices in label_to_indices.items():\n",
    "        random.shuffle(indices)\n",
    "        for i, idx in enumerate(indices):\n",
    "            folds[i % k].append(idx)\n",
    "\n",
    "    return folds\n",
    "\n",
    "# my solution\n",
    "from collections import Counter\n",
    "def kFoldValidation(labels, k=2):\n",
    "    \"\"\"\n",
    "    X.shape = (m, n)\n",
    "    len(labels)=m\n",
    "    k =2\n",
    "\n",
    "    X_train.size = m//2, X_val.size = m-m//2\n",
    "    labels can be more than 2.\n",
    "\n",
    "    hash(lables)- label1: (l1), labels2: (l2), label3: l3,...\n",
    "\n",
    "    X_train -> l1-l1//2\n",
    "    X_val -> l1//2\n",
    "\n",
    "    \"\"\"\n",
    "    hashmap = Counter(labels) # dog: 4, cat:2\n",
    "    res = [[] for _ in range(k)]\n",
    "\n",
    "    for label, freq in hashmap.items():\n",
    "        used = 0\n",
    "        while used < freq:\n",
    "            res[used%k].append(label)\n",
    "            used += 1\n",
    "\n",
    "\n",
    "    return res\n",
    "labels = [\"dog\", \"dog\", \"cat\",\"dog\", \"dog\", \"dog\", \"cat\"]\n",
    "num_folds = 2\n",
    "print(kFoldValidation(labels, num_folds))\n"
   ]
  },
  {
   "cell_type": "markdown",
   "id": "d3c7e532",
   "metadata": {},
   "source": [
    "## Reservior Sampling"
   ]
  },
  {
   "cell_type": "markdown",
   "id": "b3580913",
   "metadata": {},
   "source": []
  }
 ],
 "metadata": {
  "kernelspec": {
   "display_name": "Python 3",
   "language": "python",
   "name": "python3"
  },
  "language_info": {
   "codemirror_mode": {
    "name": "ipython",
    "version": 3
   },
   "file_extension": ".py",
   "mimetype": "text/x-python",
   "name": "python",
   "nbconvert_exporter": "python",
   "pygments_lexer": "ipython3",
   "version": "3.12.0"
  }
 },
 "nbformat": 4,
 "nbformat_minor": 5
}
