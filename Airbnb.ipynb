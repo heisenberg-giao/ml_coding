{
 "cells": [
  {
   "cell_type": "markdown",
   "id": "369e8ee9",
   "metadata": {},
   "source": []
  },
  {
   "cell_type": "code",
   "execution_count": 8,
   "id": "39193679",
   "metadata": {},
   "outputs": [
    {
     "name": "stdout",
     "output_type": "stream",
     "text": [
      "          viewed  booked  conversion_rate\n",
      "guest_id                                 \n",
      "1              2       1              0.5\n",
      "2              1       0              0.0\n",
      "3              2       1              0.5\n"
     ]
    }
   ],
   "source": [
    "import pandas as pd\n",
    "\n",
    "# 示例数据\n",
    "data = [\n",
    "    {'guest_id': 1, 'session_id': 101, 'viewed': True, 'booked': False},\n",
    "    {'guest_id': 1, 'session_id': 102, 'viewed': True, 'booked': True},\n",
    "    {'guest_id': 2, 'session_id': 201, 'viewed': True, 'booked': False},\n",
    "    {'guest_id': 3, 'session_id': 301, 'viewed': True, 'booked': False},\n",
    "    {'guest_id': 3, 'session_id': 302, 'viewed': True, 'booked': True},\n",
    "]\n",
    "df = pd.DataFrame(data)\n",
    "\n",
    "# 计算每个guest的转化率\n",
    "group = df.groupby('guest_id').agg({'viewed': 'sum', 'booked': 'sum'})\n",
    "group['conversion_rate'] = group['booked'] / group['viewed']\n",
    "print(group)"
   ]
  },
  {
   "cell_type": "code",
   "execution_count": 5,
   "id": "de06d895",
   "metadata": {},
   "outputs": [
    {
     "name": "stdout",
     "output_type": "stream",
     "text": [
      "Precision: 0.0\n",
      "Recall: 0.0\n"
     ]
    },
    {
     "name": "stderr",
     "output_type": "stream",
     "text": [
      "/Library/Frameworks/Python.framework/Versions/3.12/lib/python3.12/site-packages/sklearn/metrics/_classification.py:1565: UndefinedMetricWarning: Precision is ill-defined and being set to 0.0 due to no predicted samples. Use `zero_division` parameter to control this behavior.\n",
      "  _warn_prf(average, modifier, f\"{metric.capitalize()} is\", len(result))\n"
     ]
    }
   ],
   "source": [
    "from sklearn.linear_model import LogisticRegression\n",
    "from sklearn.model_selection import train_test_split\n",
    "from sklearn.metrics import precision_score, recall_score\n",
    "\n",
    "# 假设有特征和标签\n",
    "X = df[['viewed']]  # 这里只是示例，实际应有更多特征\n",
    "y = df['booked']\n",
    "\n",
    "X_train, X_test, y_train, y_test = train_test_split(X, y, test_size=0.2, random_state=42)\n",
    "model = LogisticRegression()\n",
    "model.fit(X_train, y_train)\n",
    "y_pred = model.predict(X_test)\n",
    "\n",
    "# 计算precision和recall\n",
    "precision = precision_score(y_test, y_pred)\n",
    "recall = recall_score(y_test, y_pred)\n",
    "print(\"Precision:\", precision)\n",
    "print(\"Recall:\", recall)"
   ]
  },
  {
   "cell_type": "code",
   "execution_count": 6,
   "id": "98961dbd",
   "metadata": {},
   "outputs": [
    {
     "name": "stdout",
     "output_type": "stream",
     "text": [
      "New Precision: 0.0\n",
      "New Recall: 0.0\n"
     ]
    },
    {
     "name": "stderr",
     "output_type": "stream",
     "text": [
      "/Library/Frameworks/Python.framework/Versions/3.12/lib/python3.12/site-packages/sklearn/metrics/_classification.py:1565: UndefinedMetricWarning: Precision is ill-defined and being set to 0.0 due to no predicted samples. Use `zero_division` parameter to control this behavior.\n",
      "  _warn_prf(average, modifier, f\"{metric.capitalize()} is\", len(result))\n"
     ]
    }
   ],
   "source": [
    "y_prob = model.predict_proba(X_test)[:, 1]\n",
    "threshold = 0.7\n",
    "y_pred_new = (y_prob > threshold).astype(int)\n",
    "print(\"New Precision:\", precision_score(y_test, y_pred_new))\n",
    "print(\"New Recall:\", recall_score(y_test, y_pred_new))"
   ]
  },
  {
   "cell_type": "code",
   "execution_count": 7,
   "id": "1c82d34f",
   "metadata": {},
   "outputs": [
    {
     "name": "stdout",
     "output_type": "stream",
     "text": [
      "Metrics by group:\n",
      "           bookings  visits  users  booking_rate  visit_rate\n",
      "group                                                       \n",
      "control          10      44     57      0.175439    0.771930\n",
      "treatment         7      35     43      0.162791    0.813953\n",
      "\n",
      "Booking rate difference: -0.0126\n",
      "P-value: 0.8692\n"
     ]
    },
    {
     "data": {
      "image/png": "[encoded data removed]",
      "text/plain": [
       "<Figure size 640x480 with 1 Axes>"
      ]
     },
     "metadata": {},
     "output_type": "display_data"
    }
   ],
   "source": [
    "import numpy as np\n",
    "import pandas as pd\n",
    "from scipy.stats import ttest_ind\n",
    "\n",
    "import matplotlib.pyplot as plt\n",
    "\n",
    "# 示例 booking 表\n",
    "booking = pd.DataFrame({\n",
    "    'user_id': np.arange(1, 101),\n",
    "    'group': np.random.choice(['control', 'treatment'], 100),\n",
    "    'booked': np.random.binomial(1, 0.15, 100)\n",
    "})\n",
    "\n",
    "# 示例 visiting 表\n",
    "visiting = pd.DataFrame({\n",
    "    'user_id': np.arange(1, 101),\n",
    "    'group': booking['group'],\n",
    "    'visited': np.random.binomial(1, 0.8, 100)\n",
    "})\n",
    "\n",
    "# 合并数据\n",
    "df = pd.merge(booking, visiting, on=['user_id', 'group'])\n",
    "\n",
    "# 计算各组转化率\n",
    "metrics = df.groupby('group').agg(\n",
    "    bookings=('booked', 'sum'),\n",
    "    visits=('visited', 'sum'),\n",
    "    users=('user_id', 'count')\n",
    ")\n",
    "metrics['booking_rate'] = metrics['bookings'] / metrics['users']\n",
    "metrics['visit_rate'] = metrics['visits'] / metrics['users']\n",
    "\n",
    "# 计算 p-value\n",
    "control = df[df['group'] == 'control']['booked']\n",
    "treatment = df[df['group'] == 'treatment']['booked']\n",
    "t_stat, p_value = ttest_ind(control, treatment)\n",
    "\n",
    "print(\"Metrics by group:\")\n",
    "print(metrics)\n",
    "print(f\"\\nBooking rate difference: {metrics.loc['treatment', 'booking_rate'] - metrics.loc['control', 'booking_rate']:.4f}\")\n",
    "print(f\"P-value: {p_value:.4f}\")\n",
    "\n",
    "# 可视化\n",
    "fig, ax = plt.subplots()\n",
    "metrics['booking_rate'].plot(kind='bar', ax=ax, color=['skyblue', 'orange'])\n",
    "ax.set_ylabel('Booking Rate')\n",
    "ax.set_title('Booking Rate by Group')\n",
    "plt.xticks(rotation=0)\n",
    "plt.show()"
   ]
  },
  {
   "cell_type": "code",
   "execution_count": null,
   "id": "25df9e96",
   "metadata": {},
   "outputs": [],
   "source": []
  }
 ],
 "metadata": {
  "kernelspec": {
   "display_name": "Python 3",
   "language": "python",
   "name": "python3"
  },
  "language_info": {
   "codemirror_mode": {
    "name": "ipython",
    "version": 3
   },
   "file_extension": ".py",
   "mimetype": "text/x-python",
   "name": "python",
   "nbconvert_exporter": "python",
   "pygments_lexer": "ipython3",
   "version": "3.12.0"
  }
 },
 "nbformat": 4,
 "nbformat_minor": 5
}
