{
 "cells": [
  {
   "cell_type": "markdown",
   "id": "d2b41f6a",
   "metadata": {},
   "source": [
    "# 1. Working Hours\n",
    "店面 coding 估算working hours\n",
    "给定 working hours 的window（比如说 MON-FRI, 9-17 ），开始工作的date，和时间，结束工作的date和时间，求总共工作了多少小时\n",
    "\n",
    "给你个例子\n",
    "假设这个是 # working hours: MON-FRI, 9-17\n",
    "那么 # start: WED 10 -> # end: WED 18 就是7小时\n",
    "因为 # WED 10-17 working hours # 17-18 not working hours\n",
    "假设 # start WED 23 # end THU 1 那么working hour 是0\n",
    "\n",
    "然后问题海可以延伸到给定的不仅仅是 day of week，还可以有不同的week，来估计working hours\n",
    "比如说 # week 0, WED, 10 -> # week 200, MON, 7\n",
    "\n",
    "start_day = 2 (WED), 10, 2, 18 => 7\n"
   ]
  },
  {
   "cell_type": "code",
   "execution_count": 1,
   "id": "f7839d1f",
   "metadata": {},
   "outputs": [
    {
     "name": "stdout",
     "output_type": "stream",
     "text": [
      "7\n",
      "0\n",
      "7983\n"
     ]
    }
   ],
   "source": [
    "def working_hours(\n",
    "    start_week, start_day, start_hour,\n",
    "    end_week, end_day, end_hour,\n",
    "    work_days=(0,1,2,3,4),  # MON-FRI\n",
    "    work_start=9, work_end=17\n",
    "):\n",
    "    # 计算总小时数\n",
    "    # 1. 统一起止时间为分钟数\n",
    "    start_total_hours = start_week * 7 * 24 + start_day * 24 + start_hour\n",
    "    end_total_hours = end_week * 7 * 24 + end_day * 24 + end_hour\n",
    "    if end_total_hours <= start_total_hours:\n",
    "        return 0\n",
    "\n",
    "    total_hours = 0\n",
    "    # 遍历每个小时\n",
    "    for h in range(start_total_hours, end_total_hours):\n",
    "        week = h // (7*24)\n",
    "        day = (h // 24) % 7\n",
    "        hour = h % 24\n",
    "        if day in work_days and work_start <= hour < work_end:\n",
    "            total_hours += 1\n",
    "    return total_hours\n",
    "\n",
    "# 示例\n",
    "# week 0, WED(2), 10 -> week 0, WED(2), 18\n",
    "print(working_hours(0, 2, 10, 0, 2, 18))  # 输出 7\n",
    "\n",
    "# week 0, WED(2), 23 -> week 0, THU(3), 1\n",
    "print(working_hours(0, 2, 23, 0, 3, 1))  # 输出 0\n",
    "\n",
    "# week 0, WED(2), 10 -> week 200, MON(0), 7\n",
    "print(working_hours(0, 2, 10, 200, 0, 7))    "
   ]
  },
  {
   "cell_type": "markdown",
   "id": "5b14e05a",
   "metadata": {},
   "source": [
    "# 2. Longest words LC720\n",
    "\n",
    "\n",
    "Given an array of strings, return the longest word that can be built one character at a time by other words in the array.\n",
    "\n",
    "Input: [\"s\", \"sn\", \"sna\", \"snap\", \"chat\"]\n",
    "Output: \"snap\"\n"
   ]
  },
  {
   "cell_type": "code",
   "execution_count": null,
   "id": "f0735863",
   "metadata": {},
   "outputs": [
    {
     "name": "stdout",
     "output_type": "stream",
     "text": [
      "snap\n"
     ]
    }
   ],
   "source": [
    "def longest_word(words):\n",
    "    words_set = set(words)\n",
    "    words.sort(key=lambda x: (-len(x), x))  # 长的优先，字典序小的优先， nlogn\n",
    "    for word in words:\n",
    "        # 检查 word 的每个前缀都在 words_set 里\n",
    "        if all(word[:i] in words_set for i in range(1, len(word))): # time: O(nk), k is the longest word in the words\n",
    "            return word\n",
    "    return \"\"\n",
    "\n",
    "# total O(nlogn + nk)\n",
    "\n",
    "# 示例\n",
    "print(longest_word([\"s\", \"sn\", \"sna\", \"snap\", \"chat\"]))  # 输出: snap"
   ]
  },
  {
   "cell_type": "code",
   "execution_count": 8,
   "id": "c498b9ac",
   "metadata": {},
   "outputs": [
    {
     "name": "stdout",
     "output_type": "stream",
     "text": [
      "gola\n"
     ]
    }
   ],
   "source": [
    "from collections import deque\n",
    "class TrieNode:\n",
    "    def __init__(self):\n",
    "        self.children = {}\n",
    "        self.is_word = False\n",
    "        self.word = \"\"\n",
    "\n",
    "class Trie:\n",
    "    def __init__(self):\n",
    "        self.root = TrieNode()\n",
    "    \n",
    "    def insert(self, word):\n",
    "        node = self.root \n",
    "        for c in word:\n",
    "            if c not in node.children:\n",
    "                node.children[c] = TrieNode()\n",
    "            node = node.children[c]\n",
    "        node.is_word = True\n",
    "        node.word = word  # ✅ 插入时记录单词\n",
    "\n",
    "    def search(self, word):\n",
    "        node = self.root \n",
    "        for c in word:\n",
    "            if c not in node.children:\n",
    "                return False\n",
    "            node = node.children[c]\n",
    "        return node.is_word\n",
    "\n",
    "    def startsWith(self, prefix):\n",
    "        node = self.root \n",
    "        for c in prefix:\n",
    "            if c not in node.children:\n",
    "                return False\n",
    "            node = node.children[c]\n",
    "        return True\n",
    "\n",
    "    def longest_word_with_all_prefixes(self):\n",
    "        q = deque([self.root])\n",
    "        res = \"\"\n",
    "\n",
    "        while q:\n",
    "            node = q.popleft()\n",
    "            for ch in sorted(node.children.keys()):\n",
    "                child = node.children[ch]\n",
    "                if child.is_word:\n",
    "                    q.append(child)\n",
    "                    # 更新最长合法词\n",
    "                    if len(child.word) > len(res) or \\\n",
    "                       (len(child.word) == len(res) and child.word < res):\n",
    "                        res = child.word\n",
    "        return res\n",
    "    \n",
    "words = [\"go\", \"golang\", \"g\", \"gol\", \"gola\"]\n",
    "trie = Trie()\n",
    "for w in words:\n",
    "    trie.insert(w)\n",
    "\n",
    "print(trie.longest_word_with_all_prefixes())  # 输出: \"gola\""
   ]
  },
  {
   "cell_type": "markdown",
   "id": "8d5724e0",
   "metadata": {},
   "source": [
    "# 3. Meeting Rooms\n",
    "\n",
    "findmeetingroom(A, B, room)\n",
    "给定A location ， B  location和 room的locations，找到两者之间开会距离最短的room\n"
   ]
  },
  {
   "cell_type": "code",
   "execution_count": 3,
   "id": "e93f897b",
   "metadata": {},
   "outputs": [],
   "source": [
    "def findMeetingRoom(A, B, rooms):\n",
    "    def dist(p1, p2):\n",
    "        return abs(p1[0] - p2[0]) + abs(p1[1] - p2[1])  # 曼哈顿距离\n",
    "\n",
    "    min_dist = float('inf')\n",
    "    best_room = None\n",
    "\n",
    "    for room in rooms:\n",
    "        d = (dist(room, A) + dist(room, B)) / 2\n",
    "        if d < min_dist:\n",
    "            min_dist = d\n",
    "            best_room = room\n",
    "\n",
    "    return best_room\n"
   ]
  },
  {
   "cell_type": "markdown",
   "id": "fd703d45",
   "metadata": {},
   "source": [
    "# 4. Tell if if's Permutation\n",
    "Coding 是 判断一串数字是不是 permutation，permutation 的定义是 length 是n + 1 的 list里面所有数字在 [0, n] 并且没有duplicate，一开始比较简单就是O(n) 然后follow up 说能不能 O(1) memory\n",
    "\n",
    "问了两个followup： 1） 如果不是严格increasing, 可以equal，怎么改； 2）要求打出path\n",
    "两个followup都要求在原代码基础上改写，能跑\n"
   ]
  },
  {
   "cell_type": "code",
   "execution_count": null,
   "id": "53581aeb",
   "metadata": {},
   "outputs": [],
   "source": [
    "def is_permutation(nums):\n",
    "    # O(n) space\n",
    "    n = len(nums)-1\n",
    "    seen = set()\n",
    "    for x in nums:\n",
    "        if x < 0 or x > n or x in seen:\n",
    "            return False\n",
    "        seen.add(x)\n",
    "    return True\n",
    "\n",
    "def is_permutation_space_optimal(nums):\n",
    "    n = len(nums)-1\n",
    "    for i in range(n+1):\n",
    "        # inplace swap，将nums[i]  放在正确的位置，val应该当在 nums[val]上面，但是如果发生冲突了，说明有重复或者不合法的元素\n",
    "        if nums[i] < 0 or nums[i] > n or nums[nums[i]] == nums[i]:\n",
    "            return False\n",
    "        nums[nums[i]], nums[i] = nums[i], nums[nums[i]]\n",
    "    return True"
   ]
  },
  {
   "cell_type": "code",
   "execution_count": null,
   "id": "02826dc0",
   "metadata": {},
   "outputs": [],
   "source": [
    "# if nums can be euqal, not strictly increasing\n",
    "# 那么不需要判断重复即可\n",
    "def is_permutation_with_equal(nums):\n",
    "    n = len(nums) - 1\n",
    "    for x in nums:\n",
    "        if x < 0 or x > n:\n",
    "            return False\n",
    "    return True\n",
    "\n",
    "# 要求打印出path（置换环）\n",
    "def print_permutation_cycles(nums):\n",
    "    n = len(nums)\n",
    "    visited = [False] * n\n",
    "    for i in range(n):\n",
    "        if not visited[i]:\n",
    "            path = []\n",
    "            j = i\n",
    "            while not visited[j]:\n",
    "                path.append(j)\n",
    "                visited[j] = True\n",
    "                j = nums[j]\n",
    "            print(path)"
   ]
  },
  {
   "cell_type": "markdown",
   "id": "29d7791e",
   "metadata": {},
   "source": []
  },
  {
   "cell_type": "markdown",
   "id": "0ec04dea",
   "metadata": {},
   "source": [
    "# 5. Number of islands variants\n",
    "Euclident distance cluster (variation of LC \"number of island\"  ): find_clusters\n"
   ]
  },
  {
   "cell_type": "code",
   "execution_count": 9,
   "id": "c421ec43",
   "metadata": {},
   "outputs": [
    {
     "name": "stdout",
     "output_type": "stream",
     "text": [
      "Clusters: [[(0, 0), (1, 1)], [(10, 10), (10, 11), (11, 10)]]\n"
     ]
    }
   ],
   "source": [
    "def find_clusters(points, D):\n",
    "    \"\"\"\n",
    "    :type points: List[p1=(x1,y1), p2, p...]\n",
    "    :rtype: int\n",
    "\n",
    "    time complexity: O(n^2)\n",
    "    space complexity: O(n), N is nuber of poins\n",
    "\n",
    "    visited list\n",
    "    go throught all the neightbors and update the current cluster\n",
    "\n",
    "    dfs only updated visited and clustering one at the begining\n",
    "    \"\"\"\n",
    "\n",
    "    def euclidean_distance(P1, P2):\n",
    "        x1, y1 = P1\n",
    "        x2, y2 = P2\n",
    "        return ((x1 - x2) ** 2 + (y1 - y2) ** 2) ** 0.5\n",
    "\n",
    "\n",
    "    def dfs(point_index=0, cluster = []):\n",
    "      \"\"\"\n",
    "      Start from the center (0,0), loop through all the neightbors\n",
    "      \"\"\"\n",
    "      #Add the visted point and the visted point cluster\n",
    "      visited[point_index] = True\n",
    "      cluster.append(points[point_index])\n",
    "      for j , neightbor in enumerate(points):\n",
    "        if not visited[j]: # neightbor\n",
    "          if euclidean_distance(points[point_index], neightbor) <= D:\n",
    "            # check on the next neightbor point\n",
    "            dfs(j, cluster) #\n",
    "\n",
    "\n",
    "    clusters = [] #results\n",
    "\n",
    "    visited =  [False]* len(points) # indicate if the point as visited or not\n",
    "    for i , point in enumerate(points):\n",
    "        if not visited[i]:\n",
    "            cluster = [] # start a new cluster\n",
    "            # loop through all the neightbors and  update the element in the current cluster\n",
    "            dfs(i, cluster)\n",
    "            # Updated the results\n",
    "            clusters.append(cluster)\n",
    "\n",
    "    return clusters\n",
    "\n",
    "# Example Usage\n",
    "points = [(0, 0), (1, 1), (10, 10), (10, 11), (11, 10)]\n",
    "D = 2.0\n",
    "clusters = find_clusters(points, D)\n",
    "print(\"Clusters:\", clusters)"
   ]
  },
  {
   "cell_type": "markdown",
   "id": "d0be58e2",
   "metadata": {},
   "source": []
  },
  {
   "cell_type": "markdown",
   "id": "1ed42224",
   "metadata": {},
   "source": [
    "# 6. Decode ways variant\n",
    "\n",
    "coding问了道不知道lc上有没有的，难度大概medium 91\n",
    "把数字decode成字母，比如A->1， B->2...，Z->26\n",
    "给定一串数字比如11106，返回所有可以decode的方法数，11106有11，10，6和1，1，10，6两种解法，因为06是invalid\n",
    "给了个dfs的解，然后伪代码写了一下用dp怎么做。dp好像有点小bug但老哥没太在意\n"
   ]
  },
  {
   "cell_type": "code",
   "execution_count": 12,
   "id": "e784463a",
   "metadata": {},
   "outputs": [
    {
     "name": "stdout",
     "output_type": "stream",
     "text": [
      "2\n"
     ]
    }
   ],
   "source": [
    "def num_decodings(s):\n",
    "    n = len(s)\n",
    "    dp = [0] * (n+1)\n",
    "    dp[0] = 1\n",
    "    for i in range(1, n+1):\n",
    "        if s[i-1] != '0':\n",
    "            dp[i] += dp[i-1]\n",
    "        if i >= 2 and s[i-2] != '0' and 10 <= int(s[i-2:i]) <= 26:\n",
    "            dp[i] += dp[i-2]\n",
    "    return dp[n]\n",
    "\n",
    "print(num_decodings(\"11106\"))  # 输出: 2"
   ]
  },
  {
   "cell_type": "markdown",
   "id": "ea45344e",
   "metadata": {},
   "source": []
  },
  {
   "cell_type": "markdown",
   "id": "0cde6885",
   "metadata": {},
   "source": [
    "# 7. Find local minimum\n",
    "Coding:问怎么寻找局部极小值，回答通过二分查找，以及follow up怎么在存在极小值的数组里面找某个target值的最小index.回答先找到极小值，然后先后在极小值左边和右边二分查找target值. like 162?\n"
   ]
  },
  {
   "cell_type": "code",
   "execution_count": null,
   "id": "b28793b5",
   "metadata": {},
   "outputs": [],
   "source": []
  },
  {
   "cell_type": "markdown",
   "id": "a15d3ed2",
   "metadata": {},
   "source": [
    "# 8. Min cost for getting all fines\n",
    "\n",
    "coding没有见过不是Leetcode原题。因为是9月多面的，具体题目记不清了。但是大概是，有一个文件被存在很多的machine上，然后每个machine有一些bits， 会有起始和结束index。和每个partial 文件的cost。这些partial文件会有overlap。问最后能得到全部文件的最小cost。没有做出来。我感觉可能是用DP.for k in range(i, j):​    dp[i][j] = min(dp[i][k]+dp[k+1][j], dp[i][j])\n"
   ]
  },
  {
   "cell_type": "code",
   "execution_count": 13,
   "id": "990d4df6",
   "metadata": {},
   "outputs": [],
   "source": [
    "def min_cost_cover(N, intervals):\n",
    "    # intervals: [(start, end, cost), ...]\n",
    "    dp = [[float('inf')] * N for _ in range(N)]\n",
    "    for start, end, cost in intervals:\n",
    "        dp[start][end] = min(dp[start][end], cost)\n",
    "    for length in range(1, N+1):\n",
    "        for i in range(N-length+1):\n",
    "            j = i+length-1\n",
    "            for k in range(i, j):\n",
    "                dp[i][j] = min(dp[i][j], dp[i][k]+dp[k+1][j])\n",
    "    return dp[0][N-1] if dp[0][N-1] != float('inf') else -1"
   ]
  },
  {
   "cell_type": "markdown",
   "id": "29ebdaa2",
   "metadata": {},
   "source": [
    "# 9. Online Counter (Circular buffer) LC362\n",
    "\n",
    "设计一个online counter class，有两个method，一个get，一个increment，每次increment被call的时候相当于一个线上请求，每次get的时候返回过去5分钟的请求数，要求time和space都得是O1， 要写一下mock test。"
   ]
  },
  {
   "cell_type": "code",
   "execution_count": 4,
   "id": "67879342",
   "metadata": {},
   "outputs": [],
   "source": [
    "class OnlineCounter:\n",
    "    def __init__(self):\n",
    "        self.buckets = [[0, 0] for _ in range(300)]  # 每个 [timestamp, count]\n",
    "\n",
    "    def increment(self, t: int):\n",
    "        idx = t % 300\n",
    "        if self.buckets[idx][0] != t:\n",
    "            self.buckets[idx] = [t, 1]\n",
    "        else:\n",
    "            self.buckets[idx][1] += 1\n",
    "\n",
    "    def get(self, t: int) -> int:\n",
    "        total = 0\n",
    "        for ts, count in self.buckets:\n",
    "            if t - ts < 300:\n",
    "                total += count\n",
    "        return total"
   ]
  },
  {
   "cell_type": "markdown",
   "id": "abb4cc3e",
   "metadata": {},
   "source": [
    "# \n",
    "\n",
    "\n",
    "56\n",
    "127\n",
    "166\n",
    "39\n",
    "32\n",
    "329\n",
    "827\n",
    "coding： 二分题 简单的 就是给时间戳让你找出/count在这个点之前的所有event\n"
   ]
  },
  {
   "cell_type": "markdown",
   "id": "ecc0d18d",
   "metadata": {},
   "source": []
  },
  {
   "cell_type": "code",
   "execution_count": null,
   "id": "c7b49e1c",
   "metadata": {},
   "outputs": [
    {
     "data": {
      "text/plain": [
       "[1, 2, 3, 4, 5, 6, 7]"
      ]
     },
     "execution_count": 11,
     "metadata": {},
     "output_type": "execute_result"
    }
   ],
   "source": [
    "def flat_array(arr):\n",
    "    res = []\n",
    "    for item in arr:\n",
    "        if isinstance(item, list):\n",
    "            res.extend(flat_array(item))\n",
    "        else:\n",
    "            res.append(item)\n",
    "    return res\n",
    "\n",
    "flat_array([1, [2, 3, [4, 5], 6], 7])\n"
   ]
  },
  {
   "cell_type": "code",
   "execution_count": null,
   "id": "ada353cb",
   "metadata": {},
   "outputs": [],
   "source": []
  }
 ],
 "metadata": {
  "kernelspec": {
   "display_name": "Python 3",
   "language": "python",
   "name": "python3"
  },
  "language_info": {
   "codemirror_mode": {
    "name": "ipython",
    "version": 3
   },
   "file_extension": ".py",
   "mimetype": "text/x-python",
   "name": "python",
   "nbconvert_exporter": "python",
   "pygments_lexer": "ipython3",
   "version": "3.12.0"
  }
 },
 "nbformat": 4,
 "nbformat_minor": 5
}
